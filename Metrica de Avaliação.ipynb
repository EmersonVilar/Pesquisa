{
 "cells": [
  {
   "cell_type": "code",
   "execution_count": 3,
   "metadata": {},
   "outputs": [],
   "source": [
    "import numpy as np\n",
    "import pandas as pd\n",
    "import matplotlib.pyplot as plt"
   ]
  },
  {
   "cell_type": "code",
   "execution_count": 4,
   "metadata": {},
   "outputs": [],
   "source": [
    "def normal_signal(mbt0, sbt0, mat0, sat0, t0, N):\n",
    "    x = np.concatenate((np.random.normal(mbt0,sbt0,t0),np.random.normal(mat0,sat0,N-t0)))\n",
    "    return x"
   ]
  },
  {
   "cell_type": "code",
   "execution_count": 35,
   "metadata": {},
   "outputs": [],
   "source": [
    "def add(mbt0, sbt0, mat0, sat0, t0, N, xtp, n, n2):\n",
    "    td_par = []\n",
    "    for i in np.arange(0, n2):\n",
    "        td = []\n",
    "        for i in np.arange(0,n):\n",
    "            x = pd.Series(normal_signal(3,1,5,1,1000,2000))\n",
    "            for i in np.arange(0,len(x)):\n",
    "                if i >= t0 and x[i] > xtp:\n",
    "                    ta = i\n",
    "                    td.append(i - t0)\n",
    "                    break\n",
    "        td_par.append(np.array(td).mean())\n",
    "    \n",
    "    Td = np.array(td_par)\n",
    "    mTd = Td.mean()\n",
    "    sTd = Td.std()\n",
    "    return mTd,sTd\n",
    "    "
   ]
  },
  {
   "cell_type": "code",
   "execution_count": 37,
   "metadata": {},
   "outputs": [
    {
     "data": {
      "text/plain": [
       "(0.18749999999999997, 0.020561209432650926)"
      ]
     },
     "execution_count": 37,
     "metadata": {},
     "output_type": "execute_result"
    }
   ],
   "source": [
    "add(3,1,5,1,1000,2000,4,500,600)"
   ]
  }
 ],
 "metadata": {
  "kernelspec": {
   "display_name": "Python 2",
   "language": "python",
   "name": "python2"
  },
  "language_info": {
   "codemirror_mode": {
    "name": "ipython",
    "version": 3
   },
   "file_extension": ".py",
   "mimetype": "text/x-python",
   "name": "python",
   "nbconvert_exporter": "python",
   "pygments_lexer": "ipython3",
   "version": "3.6.4"
  }
 },
 "nbformat": 4,
 "nbformat_minor": 2
}
