{
 "cells": [
  {
   "cell_type": "code",
   "execution_count": 1,
   "metadata": {},
   "outputs": [],
   "source": [
    "import numpy as np\n",
    "import pandas as pd\n",
    "import matplotlib.pyplot as plt"
   ]
  },
  {
   "cell_type": "code",
   "execution_count": 2,
   "metadata": {},
   "outputs": [],
   "source": [
    "def step_signal (low, high, s_low=0.2, s_high=0.2, larg_high_i=20, larg_high_f=100, larg_low_i=20, larg_low_f=100, prob_positivo=0.5, n=100):\n",
    "       \n",
    "    distrib = np.random.binomial(1,prob_positivo,n)\n",
    "    signal = np.concatenate([np.random.uniform(high-s_high,high+s_high,np.random.randint(larg_high_i, larg_high_f)) if x == 1 else np.random.uniform(low-s_low,low+s_low,np.random.randint(larg_low_i, larg_low_f)) for x in distrib])\n",
    "    return signal"
   ]
  },
  {
   "cell_type": "code",
   "execution_count": 103,
   "metadata": {},
   "outputs": [],
   "source": [
    "def alarm_generate(x, list=var_list):\n",
    "    '''alarm_generate is a function when return a vector '''\n",
    "    t_delay = 0\n",
    "    t_dead = 0\n",
    "    log_alarm = np.arange(len(x))\n",
    "  \n",
    "    if var_list[\"type_var\"] == 'high':\n",
    "        for i in np.arange(len(x)):\n",
    "            if x[i] > var_list[\"limit\"]:\n",
    "                t_dead = 0\n",
    "                t_delay = t_delay + 3/len(x)\n",
    "                if t_delay >= var_list[\"delay_time\"]:\n",
    "                    log_alarm[i] = 1\n",
    "                else:\n",
    "                    log_alarm[i] = 0\n",
    "            else:\n",
    "                if log_alarm[i-1] == 1:\n",
    "                    t_dead = t_dead + 3/len(x)\n",
    "                    if t_dead >= var_list[\"dead_band_delay\"]:\n",
    "                        log_alarm[i] = 0\n",
    "                        t_delay = 0\n",
    "                        t_dead = 0\n",
    "                    else:\n",
    "                        log_alarm[i] = 1\n",
    "                else:\n",
    "                    t_delay = 0\n",
    "                    t_dead = 0\n",
    "                    log_alarm[i] = 0\n",
    "    else:\n",
    "        for i in np.arange(len(x)):\n",
    "            if x[i] < limit:\n",
    "                t_dead = 0\n",
    "                t_delay = t_delay + 3/len(x)\n",
    "                if t_delay >= var_list[\"delay_time\"]:\n",
    "                    log_alarm[i] = 1\n",
    "                else:\n",
    "                    log_alarm[i] = 0\n",
    "            else:\n",
    "                if log_alarm[i-1] == 1:\n",
    "                    t_dead = t_dead + 3/len(x)\n",
    "                    if t_dead >= var_list[\"dead_band_delay\"]:\n",
    "                        log_alarm[i] = 0\n",
    "                        t_delay = 0\n",
    "                        t_dead = 0\n",
    "                    else:\n",
    "                        log_alarm[i] = 1\n",
    "                else:\n",
    "                    t_delay = 0\n",
    "                    t_dead = 0\n",
    "                    log_alarm[i] = 0\n",
    "\n",
    "    return log_alarm"
   ]
  },
  {
   "cell_type": "code",
   "execution_count": 104,
   "metadata": {},
   "outputs": [],
   "source": [
    "x = []\n",
    "for i in np.arange(10):\n",
    "    x.append(step_signal(3,7))"
   ]
  },
  {
   "cell_type": "code",
   "execution_count": 105,
   "metadata": {},
   "outputs": [],
   "source": [
    "for i in np.arange(10):\n",
    "    if len(x[0]) > len(x[i]):\n",
    "        if x[i][-1] >= 2.8 and x[i][-1] <= 3.2:\n",
    "            x[i] = np.concatenate((x[i],np.random.uniform(3-0.2,3+0.2,len(x[0])-len(x[i]))))\n",
    "        elif x[i][-1] >= 6.7 and x[i][-1] <= 7.3:\n",
    "            x[i] = np.concatenate((x[i],np.random.uniform(7-0.3,7+0.3,len(x[0])-len(x[i]))))\n",
    "    else:\n",
    "        delete = np.nonzero(x[i][len(x[0]):])\n",
    "        x[i] = np.delete(x[i],delete)\n",
    "    \n",
    "    \n",
    "# limit = 5 \n",
    "# type_ = 'high' \n",
    "# delay_time = 100*3/len(x[0])\n",
    "# dead_band = 70*3/len(x[0])\n",
    "# t_delay = 0\n",
    "df = pd.DataFrame()\n",
    "for i in np.arange(10):\n",
    "    df['x'+str(i)] = x[i]\n",
    "\n",
    "tout = np.arange(0,3,3/len(x[0]),dtype=float)    \n",
    "df.insert(0,'tout',tout)"
   ]
  },
  {
   "cell_type": "code",
   "execution_count": 106,
   "metadata": {},
   "outputs": [
    {
     "data": {
      "text/html": [
       "<div>\n",
       "<style scoped>\n",
       "    .dataframe tbody tr th:only-of-type {\n",
       "        vertical-align: middle;\n",
       "    }\n",
       "\n",
       "    .dataframe tbody tr th {\n",
       "        vertical-align: top;\n",
       "    }\n",
       "\n",
       "    .dataframe thead th {\n",
       "        text-align: right;\n",
       "    }\n",
       "</style>\n",
       "<table border=\"1\" class=\"dataframe\">\n",
       "  <thead>\n",
       "    <tr style=\"text-align: right;\">\n",
       "      <th></th>\n",
       "      <th>tout</th>\n",
       "      <th>x0</th>\n",
       "      <th>x1</th>\n",
       "      <th>x2</th>\n",
       "      <th>x3</th>\n",
       "      <th>x4</th>\n",
       "      <th>x5</th>\n",
       "      <th>x6</th>\n",
       "      <th>x7</th>\n",
       "      <th>x8</th>\n",
       "      <th>x9</th>\n",
       "    </tr>\n",
       "  </thead>\n",
       "  <tbody>\n",
       "    <tr>\n",
       "      <th>0</th>\n",
       "      <td>0.000000</td>\n",
       "      <td>3.160934</td>\n",
       "      <td>2.800485</td>\n",
       "      <td>2.800343</td>\n",
       "      <td>6.912177</td>\n",
       "      <td>3.060794</td>\n",
       "      <td>6.962150</td>\n",
       "      <td>6.983160</td>\n",
       "      <td>3.140506</td>\n",
       "      <td>3.147521</td>\n",
       "      <td>6.803150</td>\n",
       "    </tr>\n",
       "    <tr>\n",
       "      <th>1</th>\n",
       "      <td>0.000488</td>\n",
       "      <td>2.821664</td>\n",
       "      <td>3.170227</td>\n",
       "      <td>2.870109</td>\n",
       "      <td>7.013093</td>\n",
       "      <td>3.101221</td>\n",
       "      <td>7.089710</td>\n",
       "      <td>6.866949</td>\n",
       "      <td>2.817394</td>\n",
       "      <td>3.189724</td>\n",
       "      <td>6.811568</td>\n",
       "    </tr>\n",
       "    <tr>\n",
       "      <th>2</th>\n",
       "      <td>0.000977</td>\n",
       "      <td>2.826467</td>\n",
       "      <td>2.858321</td>\n",
       "      <td>2.883551</td>\n",
       "      <td>7.038244</td>\n",
       "      <td>2.877029</td>\n",
       "      <td>6.819824</td>\n",
       "      <td>6.914463</td>\n",
       "      <td>3.110855</td>\n",
       "      <td>3.126393</td>\n",
       "      <td>6.821092</td>\n",
       "    </tr>\n",
       "    <tr>\n",
       "      <th>3</th>\n",
       "      <td>0.001465</td>\n",
       "      <td>3.061640</td>\n",
       "      <td>3.020801</td>\n",
       "      <td>3.085746</td>\n",
       "      <td>6.947471</td>\n",
       "      <td>3.019671</td>\n",
       "      <td>6.967323</td>\n",
       "      <td>7.142251</td>\n",
       "      <td>2.944566</td>\n",
       "      <td>2.840379</td>\n",
       "      <td>6.903848</td>\n",
       "    </tr>\n",
       "    <tr>\n",
       "      <th>4</th>\n",
       "      <td>0.001953</td>\n",
       "      <td>2.965002</td>\n",
       "      <td>2.929185</td>\n",
       "      <td>3.136693</td>\n",
       "      <td>7.176624</td>\n",
       "      <td>2.993145</td>\n",
       "      <td>6.985263</td>\n",
       "      <td>7.109382</td>\n",
       "      <td>2.917437</td>\n",
       "      <td>3.184172</td>\n",
       "      <td>7.092167</td>\n",
       "    </tr>\n",
       "  </tbody>\n",
       "</table>\n",
       "</div>"
      ],
      "text/plain": [
       "       tout        x0        x1        x2        x3        x4        x5  \\\n",
       "0  0.000000  3.160934  2.800485  2.800343  6.912177  3.060794  6.962150   \n",
       "1  0.000488  2.821664  3.170227  2.870109  7.013093  3.101221  7.089710   \n",
       "2  0.000977  2.826467  2.858321  2.883551  7.038244  2.877029  6.819824   \n",
       "3  0.001465  3.061640  3.020801  3.085746  6.947471  3.019671  6.967323   \n",
       "4  0.001953  2.965002  2.929185  3.136693  7.176624  2.993145  6.985263   \n",
       "\n",
       "         x6        x7        x8        x9  \n",
       "0  6.983160  3.140506  3.147521  6.803150  \n",
       "1  6.866949  2.817394  3.189724  6.811568  \n",
       "2  6.914463  3.110855  3.126393  6.821092  \n",
       "3  7.142251  2.944566  2.840379  6.903848  \n",
       "4  7.109382  2.917437  3.184172  7.092167  "
      ]
     },
     "execution_count": 106,
     "metadata": {},
     "output_type": "execute_result"
    }
   ],
   "source": [
    "df.head()"
   ]
  },
  {
   "cell_type": "code",
   "execution_count": 108,
   "metadata": {},
   "outputs": [],
   "source": [
    "var_list = {\n",
    "    \"limit\": 5,\n",
    "    \"type_var\":'high', \n",
    "    \"delay_time\" : 100*3/len(x[0]), \n",
    "    \"dead_band_delay\" : 70*3/len(x[0])\n",
    "}\n",
    "\n",
    "log = []\n",
    "for i in np.arange(10):\n",
    "    log.append(alarm_generate(x[i], var_list))"
   ]
  },
  {
   "cell_type": "code",
   "execution_count": 109,
   "metadata": {},
   "outputs": [],
   "source": [
    "df_log = pd.DataFrame()\n",
    "for i in np.arange(10):\n",
    "    df_log['Var_'+str(i)] = log[i]"
   ]
  },
  {
   "cell_type": "code",
   "execution_count": 110,
   "metadata": {},
   "outputs": [
    {
     "data": {
      "text/html": [
       "<div>\n",
       "<style scoped>\n",
       "    .dataframe tbody tr th:only-of-type {\n",
       "        vertical-align: middle;\n",
       "    }\n",
       "\n",
       "    .dataframe tbody tr th {\n",
       "        vertical-align: top;\n",
       "    }\n",
       "\n",
       "    .dataframe thead th {\n",
       "        text-align: right;\n",
       "    }\n",
       "</style>\n",
       "<table border=\"1\" class=\"dataframe\">\n",
       "  <thead>\n",
       "    <tr style=\"text-align: right;\">\n",
       "      <th></th>\n",
       "      <th>Var_0</th>\n",
       "      <th>Var_1</th>\n",
       "      <th>Var_2</th>\n",
       "      <th>Var_3</th>\n",
       "      <th>Var_4</th>\n",
       "      <th>Var_5</th>\n",
       "      <th>Var_6</th>\n",
       "      <th>Var_7</th>\n",
       "      <th>Var_8</th>\n",
       "      <th>Var_9</th>\n",
       "    </tr>\n",
       "  </thead>\n",
       "  <tbody>\n",
       "    <tr>\n",
       "      <th>0</th>\n",
       "      <td>0</td>\n",
       "      <td>0</td>\n",
       "      <td>0</td>\n",
       "      <td>0</td>\n",
       "      <td>0</td>\n",
       "      <td>0</td>\n",
       "      <td>0</td>\n",
       "      <td>0</td>\n",
       "      <td>0</td>\n",
       "      <td>0</td>\n",
       "    </tr>\n",
       "    <tr>\n",
       "      <th>1</th>\n",
       "      <td>0</td>\n",
       "      <td>0</td>\n",
       "      <td>0</td>\n",
       "      <td>0</td>\n",
       "      <td>0</td>\n",
       "      <td>0</td>\n",
       "      <td>0</td>\n",
       "      <td>0</td>\n",
       "      <td>0</td>\n",
       "      <td>0</td>\n",
       "    </tr>\n",
       "    <tr>\n",
       "      <th>2</th>\n",
       "      <td>0</td>\n",
       "      <td>0</td>\n",
       "      <td>0</td>\n",
       "      <td>0</td>\n",
       "      <td>0</td>\n",
       "      <td>0</td>\n",
       "      <td>0</td>\n",
       "      <td>0</td>\n",
       "      <td>0</td>\n",
       "      <td>0</td>\n",
       "    </tr>\n",
       "    <tr>\n",
       "      <th>3</th>\n",
       "      <td>0</td>\n",
       "      <td>0</td>\n",
       "      <td>0</td>\n",
       "      <td>0</td>\n",
       "      <td>0</td>\n",
       "      <td>0</td>\n",
       "      <td>0</td>\n",
       "      <td>0</td>\n",
       "      <td>0</td>\n",
       "      <td>0</td>\n",
       "    </tr>\n",
       "    <tr>\n",
       "      <th>4</th>\n",
       "      <td>0</td>\n",
       "      <td>0</td>\n",
       "      <td>0</td>\n",
       "      <td>0</td>\n",
       "      <td>0</td>\n",
       "      <td>0</td>\n",
       "      <td>0</td>\n",
       "      <td>0</td>\n",
       "      <td>0</td>\n",
       "      <td>0</td>\n",
       "    </tr>\n",
       "  </tbody>\n",
       "</table>\n",
       "</div>"
      ],
      "text/plain": [
       "   Var_0  Var_1  Var_2  Var_3  Var_4  Var_5  Var_6  Var_7  Var_8  Var_9\n",
       "0      0      0      0      0      0      0      0      0      0      0\n",
       "1      0      0      0      0      0      0      0      0      0      0\n",
       "2      0      0      0      0      0      0      0      0      0      0\n",
       "3      0      0      0      0      0      0      0      0      0      0\n",
       "4      0      0      0      0      0      0      0      0      0      0"
      ]
     },
     "execution_count": 110,
     "metadata": {},
     "output_type": "execute_result"
    }
   ],
   "source": [
    "df_log.head()"
   ]
  },
  {
   "cell_type": "code",
   "execution_count": 111,
   "metadata": {},
   "outputs": [
    {
     "data": {
      "text/plain": [
       "[<matplotlib.lines.Line2D at 0x7f3025620a58>]"
      ]
     },
     "execution_count": 111,
     "metadata": {},
     "output_type": "execute_result"
    },
    {
     "data": {
      "image/png": "[encoded data removed]",
      "text/plain": [
       "<matplotlib.figure.Figure at 0x7f30256506d8>"
      ]
     },
     "metadata": {},
     "output_type": "display_data"
    }
   ],
   "source": [
    "plt.figure(figsize=(16,4))\n",
    "plt.plot(df['x0'])\n",
    "plt.plot(df_log['Var_0']*4+3)\n"
   ]
  },
  {
   "cell_type": "code",
   "execution_count": 112,
   "metadata": {},
   "outputs": [
    {
     "data": {
      "text/plain": [
       "[<matplotlib.lines.Line2D at 0x7f30255fbb38>]"
      ]
     },
     "execution_count": 112,
     "metadata": {},
     "output_type": "execute_result"
    },
    {
     "data": {
      "image/png": "[encoded data removed]",
      "text/plain": [
       "<matplotlib.figure.Figure at 0x7f302566d3c8>"
      ]
     },
     "metadata": {},
     "output_type": "display_data"
    }
   ],
   "source": [
    "plt.figure(figsize=(16,4))\n",
    "plt.plot(df['x1'])\n",
    "plt.plot(df_log['Var_1']*4+3)"
   ]
  },
  {
   "cell_type": "code",
   "execution_count": null,
   "metadata": {},
   "outputs": [],
   "source": []
  },
  {
   "cell_type": "code",
   "execution_count": null,
   "metadata": {},
   "outputs": [],
   "source": []
  },
  {
   "cell_type": "code",
   "execution_count": null,
   "metadata": {},
   "outputs": [],
   "source": []
  }
 ],
 "metadata": {
  "kernelspec": {
   "display_name": "Python 3",
   "language": "python",
   "name": "python3"
  },
  "language_info": {
   "codemirror_mode": {
    "name": "ipython",
    "version": 3
   },
   "file_extension": ".py",
   "mimetype": "text/x-python",
   "name": "python",
   "nbconvert_exporter": "python",
   "pygments_lexer": "ipython3",
   "version": "3.6.4"
  }
 },
 "nbformat": 4,
 "nbformat_minor": 2
}
