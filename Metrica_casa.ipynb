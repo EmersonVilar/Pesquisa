{
 "cells": [
  {
   "cell_type": "code",
   "execution_count": null,
   "metadata": {},
   "outputs": [],
   "source": [
    "from time import time\n",
    "\n",
    "import numpy as np\n",
    "import pandas as pd\n",
    "import matplotlib.pyplot as plt\n",
    "\n",
    "from alarm_framework.alarm_generator.alarm_generator import*\n",
    "from alarm_framework.alarm_tunnig.sig3 import*"
   ]
  },
  {
   "cell_type": "code",
   "execution_count": null,
   "metadata": {},
   "outputs": [],
   "source": [
    "proc_var = pd.read_csv(\"proc_dist_2_aval.csv\", index_col='tout')\n",
    "proc_var.index = pd.to_datetime(proc_var.index, unit='s')\n",
    "alarm_settings = sigma3_threshold(proc_var, ['xmeas01'])\n",
    "alarm_settings[1].on_delay = 0.00\n",
    "alarm_settings[1].off_delay = 0.00\n",
    "alarm_data = alarm_seq(proc_var, [alarm_settings[1]])\n",
    "log_alarm = alarm_log(alarm_data)"
   ]
  },
  {
   "cell_type": "code",
   "execution_count": null,
   "metadata": {},
   "outputs": [],
   "source": [
    "proc_var.head()"
   ]
  },
  {
   "cell_type": "code",
   "execution_count": null,
   "metadata": {},
   "outputs": [],
   "source": [
    "def add(proc_var,log_alarm):\n",
    "    ts = proc_var['tout'][0]\n",
    "    t_inter = 0\n",
    "    for i in np.arange(0,10):\n",
    "        td = []\n",
    "        for i in np.arange(0,10):\n",
    "            t0 = ts + 40horas\n",
    "            for i in np.arange(t_inter,t_inter+100horas):\n",
    "                if i >= t0 and log_alarm['SATATE'] == 'ALM':\n",
    "                    ta = i\n",
    "                    td.append(i - t0)\n",
    "                    break\n",
    "            t_inter = t_inter+100horas\n",
    "            ts = ts + 100horas\n",
    "        td_par.append(np.array(td).mean())\n",
    "    \n",
    "    Td = np.array(td_par)\n",
    "    mTd = Td.mean()\n",
    "    sTd = Td.std()\n",
    "    return mTd,sTd"
   ]
  },
  {
   "cell_type": "code",
   "execution_count": null,
   "metadata": {},
   "outputs": [],
   "source": [
    "alarm"
   ]
  },
  {
   "cell_type": "code",
   "execution_count": null,
   "metadata": {},
   "outputs": [],
   "source": []
  }
 ],
 "metadata": {
  "kernelspec": {
   "display_name": "Python 3",
   "language": "python",
   "name": "python3"
  },
  "language_info": {
   "codemirror_mode": {
    "name": "ipython",
    "version": 3
   },
   "file_extension": ".py",
   "mimetype": "text/x-python",
   "name": "python",
   "nbconvert_exporter": "python",
   "pygments_lexer": "ipython3",
   "version": "3.6.4"
  }
 },
 "nbformat": 4,
 "nbformat_minor": 2
}
